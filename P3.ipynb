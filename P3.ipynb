{
 "cells": [
  {
   "cell_type": "markdown",
   "metadata": {},
   "source": [
    "# IST256 Project Deliverable 3 (P3)\n",
    "\n",
    "## Phase 3: Implementation\n",
    "\n",
    "In this step, you submit the final version of working code. No changes to your code will be considered after this submission. It is important to take prior instructor feedback taken into consideration and these factor into your evaluation.\n",
    "\n",
    "**IMPORTANT**: Don't forget to journal your work on the project as it factors into the evaluation of your work!"
   ]
  },
  {
   "cell_type": "markdown",
   "metadata": {},
   "source": [
    "### Step 1: What is Your Idea, Again?\n",
    "\n",
    "Please reiterate your project idea below (you can copy it from P1/P2).\n",
    "\n",
    "`--== Double-click and put the title or brief description of your project below  ==--`\n",
    "\n",
    "My project idea will source country data from multiple websites and then allow you to compare country data across pandas dataframes from multiple sources. The user will be able to select two countries they want to compare, the data they wish to compare, and the source in which to compare from. There are services on the web that allow you to do this, but not an open source app that allows comparison from multiple sources.\n",
    "\n",
    "This project is relevant to my major and my interests in exploring Pandas further, so far my favorite part of IST 256. I hope to be able to present this program to future employers as a demonstration of my coding skills.\n",
    "\n",
    "I plan on using HTML source code from chrome to source tables or APIs to source my data. I will pass the data into data tables using Pandas, and then using Interact and if statements I will display relevant tables and information."
   ]
  },
  {
   "cell_type": "markdown",
   "metadata": {},
   "source": [
    "### Step 2: Project Code\n",
    "\n",
    "Include all project code below. Make sure to execute your code to ensure it runs properly before you turn it in. \n"
   ]
  },
  {
   "cell_type": "code",
   "execution_count": 1,
   "metadata": {},
   "outputs": [
    {
     "name": "stdout",
     "output_type": "stream",
     "text": [
      "Collecting pycountry\n",
      "  Downloading pycountry-20.7.3.tar.gz (10.1 MB)\n",
      "\u001b[K     |████████████████████████████████| 10.1 MB 7.2 MB/s eta 0:00:01\n",
      "\u001b[?25hBuilding wheels for collected packages: pycountry\n",
      "  Building wheel for pycountry (setup.py) ... \u001b[?25ldone\n",
      "\u001b[?25h  Created wheel for pycountry: filename=pycountry-20.7.3-py2.py3-none-any.whl size=10746864 sha256=53b89b2e1900d3e433e45fb9905beb2911d38368acb99574b760c043eb800bc2\n",
      "  Stored in directory: /home/jovyan/.cache/pip/wheels/09/eb/0d/4ee773c6a4aadc2a43cb5c1d07f268f13c4cdc0eec88e7c1ef\n",
      "Successfully built pycountry\n",
      "Installing collected packages: pycountry\n",
      "Successfully installed pycountry-20.7.3\n",
      "Collecting wbdata\n",
      "  Downloading wbdata-0.3.0-py3-none-any.whl (14 kB)\n",
      "Requirement already satisfied: decorator>=4.0 in /opt/conda/lib/python3.8/site-packages (from wbdata) (4.4.2)\n",
      "Requirement already satisfied: requests>=2.0 in /opt/conda/lib/python3.8/site-packages (from wbdata) (2.25.0)\n",
      "Collecting appdirs<2.0,>=1.4\n",
      "  Downloading appdirs-1.4.4-py2.py3-none-any.whl (9.6 kB)\n",
      "Requirement already satisfied: chardet<4,>=3.0.2 in /opt/conda/lib/python3.8/site-packages (from requests>=2.0->wbdata) (3.0.4)\n",
      "Requirement already satisfied: certifi>=2017.4.17 in /opt/conda/lib/python3.8/site-packages (from requests>=2.0->wbdata) (2020.12.5)\n",
      "Requirement already satisfied: idna<3,>=2.5 in /opt/conda/lib/python3.8/site-packages (from requests>=2.0->wbdata) (2.10)\n",
      "Requirement already satisfied: urllib3<1.27,>=1.21.1 in /opt/conda/lib/python3.8/site-packages (from requests>=2.0->wbdata) (1.25.11)\n",
      "Collecting tabulate>=0.8.5\n",
      "  Downloading tabulate-0.8.9-py3-none-any.whl (25 kB)\n",
      "Installing collected packages: tabulate, appdirs, wbdata\n",
      "Successfully installed appdirs-1.4.4 tabulate-0.8.9 wbdata-0.3.0\n",
      "Collecting pandas-datareader\n",
      "  Downloading pandas_datareader-0.9.0-py3-none-any.whl (107 kB)\n",
      "\u001b[K     |████████████████████████████████| 107 kB 10.1 MB/s eta 0:00:01\n",
      "\u001b[?25hRequirement already satisfied: lxml in /opt/conda/lib/python3.8/site-packages (from pandas-datareader) (4.6.2)\n",
      "Requirement already satisfied: requests>=2.19.0 in /opt/conda/lib/python3.8/site-packages (from pandas-datareader) (2.25.0)\n",
      "Requirement already satisfied: pandas>=0.23 in /opt/conda/lib/python3.8/site-packages (from pandas-datareader) (1.1.4)\n",
      "Requirement already satisfied: python-dateutil>=2.7.3 in /opt/conda/lib/python3.8/site-packages (from pandas>=0.23->pandas-datareader) (2.8.1)\n",
      "Requirement already satisfied: pytz>=2017.2 in /opt/conda/lib/python3.8/site-packages (from pandas>=0.23->pandas-datareader) (2020.4)\n",
      "Requirement already satisfied: numpy>=1.15.4 in /opt/conda/lib/python3.8/site-packages (from pandas>=0.23->pandas-datareader) (1.19.4)\n",
      "Requirement already satisfied: six>=1.5 in /opt/conda/lib/python3.8/site-packages (from python-dateutil>=2.7.3->pandas>=0.23->pandas-datareader) (1.15.0)\n",
      "Requirement already satisfied: certifi>=2017.4.17 in /opt/conda/lib/python3.8/site-packages (from requests>=2.19.0->pandas-datareader) (2020.12.5)\n",
      "Requirement already satisfied: idna<3,>=2.5 in /opt/conda/lib/python3.8/site-packages (from requests>=2.19.0->pandas-datareader) (2.10)\n",
      "Requirement already satisfied: urllib3<1.27,>=1.21.1 in /opt/conda/lib/python3.8/site-packages (from requests>=2.19.0->pandas-datareader) (1.25.11)\n",
      "Requirement already satisfied: chardet<4,>=3.0.2 in /opt/conda/lib/python3.8/site-packages (from requests>=2.19.0->pandas-datareader) (3.0.4)\n",
      "Installing collected packages: pandas-datareader\n",
      "Successfully installed pandas-datareader-0.9.0\n"
     ]
    }
   ],
   "source": [
    "!pip install pycountry\n",
    "!pip install wbdata\n",
    "!pip install pandas-datareader\n",
    "from pandas_datareader import wb\n",
    "import pandas as pd\n",
    "from IPython.display import display, HTML, display_html\n",
    "import requests\n",
    "from itertools import chain, cycle\n",
    "import numpy as np\n",
    "from ipywidgets import interact_manual, Dropdown, interact, widgets\n",
    "import wbdata\n",
    "import pycountry\n",
    "import plotly.express as px\n",
    "import plotly.graph_objects as go\n",
    "import warnings"
   ]
  },
  {
   "cell_type": "code",
   "execution_count": 3,
   "metadata": {
    "scrolled": false
   },
   "outputs": [
    {
     "data": {
      "text/html": [
       "<h1>The World Bank Country Data Comparison Visualizer</h1>"
      ],
      "text/plain": [
       "<IPython.core.display.HTML object>"
      ]
     },
     "metadata": {},
     "output_type": "display_data"
    },
    {
     "data": {
      "application/vnd.jupyter.widget-view+json": {
       "model_id": "a83c443379344364b671163d2bf85e3d",
       "version_major": 2,
       "version_minor": 0
      },
      "text/plain": [
       "interactive(children=(Dropdown(description='country1', options=(['Aruba', 'AW'], ['Afghanistan', 'AF'], ['Ango…"
      ]
     },
     "metadata": {},
     "output_type": "display_data"
    }
   ],
   "source": [
    "# Step 2: Write code here\n",
    "warnings.filterwarnings('ignore') # blocks warning code flags from pandas\n",
    "indicators_lookup = {} # empty lsit for naming dataframe headings\n",
    "\n",
    "# getTopics populates a list of World Bank Data indicators using the function wbdata.get_topic()\n",
    "def getTopics():\n",
    "    topics = []\n",
    "    topic_list = wbdata.get_topic()\n",
    "    for topic in topic_list:\n",
    "        topics.append([topic['value'], topic['id']])\n",
    "    return topics\n",
    "\n",
    "# getIndicators populates a list of indicators based off of the topic chosen in the interact dropdown\n",
    "def getIndicators(topicID):\n",
    "    indicators = []\n",
    "    indicator_list = wbdata.get_indicator(topic = topicID)\n",
    "    for indicator in indicator_list:\n",
    "        indicators.append([indicator['name'], indicator['id']])\n",
    "        indicators_lookup[indicator['id']] = indicator['name']\n",
    "    return indicators\n",
    "\n",
    "# getCountries uses the module pycountries to populate a list of country full names and alpha 2 codes.\n",
    "# names get fed into the country dropdowns, whereas their alpha 2 codes get passed into the main function based\n",
    "# on the corresponding country chosen\n",
    "def getCountries():\n",
    "    countries = []\n",
    "    countries_list = list(pycountry.countries)\n",
    "    for country in countries_list:\n",
    "        countries.append([country.name, country.alpha_2])\n",
    "    return countries\n",
    "\n",
    "# buildDataframes populates two dataframes for each country chosen based on dropdown choice and country alpha 2 code\n",
    "# passed by getCountries. buildDataframes also gets a range of years from an IntRangeSlider from interact. \n",
    "def buildDataframes(indicator, countryISO_1, countryISO_2, year1, year2):\n",
    "    dat1 = pd.DataFrame({'A' : []})\n",
    "    dat2 = pd.DataFrame({'A' : []})\n",
    "    try:  \n",
    "        dat1 = wb.download(indicator=indicator, country=[countryISO_1], start=year1, end=year2)\n",
    "        dat1.columns = [indicator]\n",
    "        dat2 = wb.download(indicator=indicator, country=[countryISO_2], start=year1, end=year2)\n",
    "        dat2.columns = [indicator]\n",
    "    except ValueError:\n",
    "        display(HTML(\"<h3>No Data for Indicators Selected</h3>\"))\n",
    "    return dat1, dat2\n",
    "\n",
    "#dropdowns are initialized using the interact Dropdown function\n",
    "topic_dropdown = Dropdown(options = getTopics())\n",
    "indicator_dropdown = Dropdown(options = getIndicators(topic_dropdown.value))\n",
    "country_name_dropdown1 = Dropdown(options = getCountries())\n",
    "country_name_dropdown2 = Dropdown(options = getCountries())\n",
    "\n",
    "#year slider from interact\n",
    "year_slider = widgets.IntRangeSlider(\n",
    "        value=[1960, 2020],\n",
    "        min=1960,\n",
    "        max=2020,\n",
    "        step=1,\n",
    "        description='Year Range:',\n",
    "        disabled=False,\n",
    "        continuous_update=False,\n",
    "        orientation='horizontal',\n",
    "        readout=True,\n",
    "        readout_format='d',\n",
    "    )\n",
    "display(HTML(\"<h1>The World Bank Country Data Comparison Visualizer</h1>\"))\n",
    "\n",
    "#interact function that takes dropdowns and slider\n",
    "@interact(topic = topic_dropdown, \n",
    "          indicator = indicator_dropdown, \n",
    "          country1 = country_name_dropdown1, \n",
    "          country2 = country_name_dropdown2, \n",
    "          year = year_slider )\n",
    "\n",
    "def dropdown(country1, country2, topic, indicator, year): #main function\n",
    "    indicator_dropdown.options = getIndicators(topic_dropdown.value) # passes topic dropdown value to getIndicators\n",
    "    countryISO_1 = country1                                          # which becomes the options for the indicator dropdown\n",
    "    countryISO_2 = country2\n",
    "    year_range =  year_slider.value # gets year values from year_range slider\n",
    "    year1 = year_slider.value[0] # gets first year \n",
    "    year2 = year_slider.value[1] # gets second year\n",
    "    dat1, dat2 = buildDataframes(indicator, countryISO_1, countryISO_2, year1, year2) # two dataframes are built\n",
    "    if int(dat1.count()) > 0 and int(dat2.count()) > 0: #error checking making sure that there is data in the dataframes\n",
    "        dat3 = dat1.dropna() #removes NAN values from the dataframes\n",
    "        dat4 = dat2.dropna()\n",
    "        dat3.reset_index(inplace=True) #resets the index on dataframes to allow them to be iterable \n",
    "        dat4.reset_index(inplace=True)\n",
    "        indicator_name = indicators_lookup[indicator] #sets the indicator name based on the indicator list\n",
    "        dat3.columns = ['Country 1','Year', indicator_name] #names the columns of the dataframes\n",
    "        dat4.columns = ['Country 2','Year', indicator_name]\n",
    "        dat = pd.merge(dat3, dat4, on = 'Year') #merges the dataframes on column 'Year' into one for plotly purposes \n",
    "        display(dat)\n",
    "        dat.reset_index(inplace=True) #resets the dataframe index\n",
    "        try: #error checking to make sure there is graphable data\n",
    "            fig = px.line(dat, x=dat['Year'], y= [dat.columns[3], dat.columns[5]]) #plots the data on a plotly graph\n",
    "            fig.update_xaxes(categoryorder='category ascending') #sets years to an ascending value\n",
    "            fig.show() \n",
    "        except:\n",
    "            display(HTML(\"<h3>No graphical data for indicators selected, try a different combination</h3>\"))\n",
    "    else:\n",
    "        display(HTML(\"<h2>No data found for countries selected, try a different combination</h2>\"))\n",
    "    "
   ]
  },
  {
   "cell_type": "markdown",
   "metadata": {},
   "source": [
    "### Prepare for your Pitch and Reflection\n",
    "\n",
    "With the project code complete, its time to prepare for the final deliverable - submitting your project demo Pitch and reflection.\n"
   ]
  },
  {
   "cell_type": "code",
   "execution_count": null,
   "metadata": {},
   "outputs": [],
   "source": [
    "# run this code to turn in your work!\n",
    "from coursetools.submission import Submission\n",
    "Submission().submit()"
   ]
  },
  {
   "cell_type": "code",
   "execution_count": null,
   "metadata": {},
   "outputs": [],
   "source": []
  }
 ],
 "metadata": {
  "kernelspec": {
   "display_name": "Python 3",
   "language": "python",
   "name": "python3"
  },
  "language_info": {
   "codemirror_mode": {
    "name": "ipython",
    "version": 3
   },
   "file_extension": ".py",
   "mimetype": "text/x-python",
   "name": "python",
   "nbconvert_exporter": "python",
   "pygments_lexer": "ipython3",
   "version": "3.8.6"
  }
 },
 "nbformat": 4,
 "nbformat_minor": 4
}
